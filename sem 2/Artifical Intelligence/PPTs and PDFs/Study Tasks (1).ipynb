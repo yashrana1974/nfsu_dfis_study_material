{
 "cells": [
  {
   "cell_type": "markdown",
   "metadata": {
    "editable": true,
    "id": "qWRVEfly-Gcd",
    "jp-MarkdownHeadingCollapsed": true,
    "slideshow": {
     "slide_type": ""
    },
    "tags": []
   },
   "source": [
    "# Phase - I : Python studies"
   ]
  },
  {
   "cell_type": "markdown",
   "metadata": {
    "id": "gKED8toPz8M8"
   },
   "source": [
    "# Practise Session - I : Data structures"
   ]
  },
  {
   "cell_type": "code",
   "execution_count": 22,
   "metadata": {
    "colab": {
     "base_uri": "https://localhost:8080/"
    },
    "id": "4buRcTu-96P2",
    "outputId": "c79542b6-9e35-40d6-b9a5-34b05c638299"
   },
   "outputs": [
    {
     "name": "stdout",
     "output_type": "stream",
     "text": [
      "['apple', 'banana', 'cherry', 'apple', 'cherry']\n",
      "banana\n",
      "('apple', 'banana', 'cherry', 'apple', 'cherry')\n",
      "cherry\n",
      "{'brand': 'Hyndai', 'model': 'Venue', 'year': 2024}\n",
      "Hyndai\n"
     ]
    },
    {
     "data": {
      "text/html": [
       "<div>\n",
       "<style scoped>\n",
       "    .dataframe tbody tr th:only-of-type {\n",
       "        vertical-align: middle;\n",
       "    }\n",
       "\n",
       "    .dataframe tbody tr th {\n",
       "        vertical-align: top;\n",
       "    }\n",
       "\n",
       "    .dataframe thead th {\n",
       "        text-align: right;\n",
       "    }\n",
       "</style>\n",
       "<table border=\"1\" class=\"dataframe\">\n",
       "  <thead>\n",
       "    <tr style=\"text-align: right;\">\n",
       "      <th></th>\n",
       "      <th>Name of students</th>\n",
       "      <th>Subject1</th>\n",
       "      <th>Subject2</th>\n",
       "      <th>Pass/Fail</th>\n",
       "    </tr>\n",
       "  </thead>\n",
       "  <tbody>\n",
       "    <tr>\n",
       "      <th>0</th>\n",
       "      <td>abc</td>\n",
       "      <td>10</td>\n",
       "      <td>12</td>\n",
       "      <td>True</td>\n",
       "    </tr>\n",
       "    <tr>\n",
       "      <th>1</th>\n",
       "      <td>pqr</td>\n",
       "      <td>11</td>\n",
       "      <td>1</td>\n",
       "      <td>False</td>\n",
       "    </tr>\n",
       "    <tr>\n",
       "      <th>2</th>\n",
       "      <td>xyz</td>\n",
       "      <td>12</td>\n",
       "      <td>14</td>\n",
       "      <td>True</td>\n",
       "    </tr>\n",
       "  </tbody>\n",
       "</table>\n",
       "</div>"
      ],
      "text/plain": [
       "  Name of students  Subject1  Subject2  Pass/Fail\n",
       "0              abc        10        12       True\n",
       "1              pqr        11         1      False\n",
       "2              xyz        12        14       True"
      ]
     },
     "execution_count": 22,
     "metadata": {},
     "output_type": "execute_result"
    }
   ],
   "source": [
    "#creating data structures\n",
    "\n",
    "thislist = [\"apple\", \"banana\", \"cherry\", \"apple\", \"cherry\"]\n",
    "print(thislist)\n",
    "print(thislist[1])\n",
    "\n",
    "this_tuple = (\"apple\", \"banana\", \"cherry\", \"apple\", \"cherry\")\n",
    "print(this_tuple)\n",
    "print(this_tuple[4])\n",
    "\n",
    "thisdict = {\n",
    "  \"brand\": \"Hyndai\",\n",
    "  \"model\": \"Venue\",\n",
    "  \"year\": 2020,\n",
    "  \"year\": 2024\n",
    "}\n",
    "print(thisdict)\n",
    "print(thisdict[\"brand\"])\n",
    "\n",
    "\n",
    "import pandas as pd\n",
    "data1=pd.DataFrame(\n",
    "  {  \"Name of students\" :['abc','pqr','xyz'] ,\n",
    "     \"Subject1\" : [10,11,12],\n",
    "      \"Subject2\" : [12,1,14],\n",
    "      \"Pass/Fail\" : [True,False,True]\n",
    "     })\n",
    "data1"
   ]
  },
  {
   "cell_type": "code",
   "execution_count": 2,
   "metadata": {
    "id": "3vK2YgYPoHFc"
   },
   "outputs": [],
   "source": [
    "# accessing the elements : loc/ iloc\n",
    "\n"
   ]
  },
  {
   "cell_type": "markdown",
   "metadata": {},
   "source": [
    "## Data Exploration"
   ]
  },
  {
   "cell_type": "code",
   "execution_count": 23,
   "metadata": {
    "colab": {
     "base_uri": "https://localhost:8080/",
     "height": 425
    },
    "id": "jJ7hXyBZlv9D",
    "outputId": "55060ab2-e047-4ba3-d03e-739337e68ee0",
    "scrolled": true
   },
   "outputs": [
    {
     "name": "stdout",
     "output_type": "stream",
     "text": [
      "   sepal length (cm)  sepal width (cm)  petal length (cm)  petal width (cm)  \\\n",
      "0                5.1               3.5                1.4               0.2   \n",
      "1                4.9               3.0                1.4               0.2   \n",
      "\n",
      "   target  \n",
      "0       0  \n",
      "1       0  \n",
      "<class 'pandas.core.frame.DataFrame'>\n",
      "RangeIndex: 150 entries, 0 to 149\n",
      "Data columns (total 5 columns):\n",
      " #   Column             Non-Null Count  Dtype  \n",
      "---  ------             --------------  -----  \n",
      " 0   sepal length (cm)  150 non-null    float64\n",
      " 1   sepal width (cm)   150 non-null    float64\n",
      " 2   petal length (cm)  150 non-null    float64\n",
      " 3   petal width (cm)   150 non-null    float64\n",
      " 4   target             150 non-null    int32  \n",
      "dtypes: float64(4), int32(1)\n",
      "memory usage: 5.4 KB\n"
     ]
    },
    {
     "data": {
      "text/plain": [
       "count    150.000000\n",
       "mean       5.843333\n",
       "std        0.828066\n",
       "min        4.300000\n",
       "25%        5.100000\n",
       "50%        5.800000\n",
       "75%        6.400000\n",
       "max        7.900000\n",
       "Name: sepal length (cm), dtype: float64"
      ]
     },
     "execution_count": 23,
     "metadata": {},
     "output_type": "execute_result"
    }
   ],
   "source": [
    "import numpy as np\n",
    "import pandas as pd\n",
    "from matplotlib import pyplot\n",
    "from sklearn.datasets import load_iris\n",
    "\n",
    "# Load the Iris dataset\n",
    "iris = load_iris()\n",
    "\n",
    "# Create a DataFrame from the\n",
    "# features (X) with column names\n",
    "df = pd.DataFrame(data=iris.data,columns=iris.feature_names)\n",
    "\n",
    "# Add the target variable (y) to the DataFrame\n",
    "df['target'] = iris.target\n",
    "\n",
    "# Display the first five rows of the DataFrame\n",
    "print(df.head(2))\n",
    "\n",
    "df.info()\n",
    "df.describe()\n",
    "df[\"sepal length (cm)\"].describe()"
   ]
  },
  {
   "cell_type": "code",
   "execution_count": 8,
   "metadata": {
    "colab": {
     "base_uri": "https://localhost:8080/"
    },
    "editable": true,
    "id": "Za_upbtnhQFg",
    "outputId": "9551798d-5e01-488a-e811-bd07acb6acde",
    "slideshow": {
     "slide_type": ""
    },
    "tags": []
   },
   "outputs": [
    {
     "name": "stdout",
     "output_type": "stream",
     "text": [
      "Requirement already satisfied: skimpy in c:\\users\\dell.desktop-vrcqqht\\anaconda3\\lib\\site-packages (0.0.18)\n",
      "Requirement already satisfied: summarytools in c:\\users\\dell.desktop-vrcqqht\\anaconda3\\lib\\site-packages (0.3.0)\n",
      "Requirement already satisfied: click>=8.1.7 in c:\\users\\dell.desktop-vrcqqht\\anaconda3\\lib\\site-packages (from skimpy) (8.1.7)\n",
      "Requirement already satisfied: ipykernel>=6.29.5 in c:\\users\\dell.desktop-vrcqqht\\anaconda3\\lib\\site-packages (from skimpy) (6.29.5)\n",
      "Requirement already satisfied: numpy>=2.0.2 in c:\\users\\dell.desktop-vrcqqht\\anaconda3\\lib\\site-packages (from skimpy) (2.2.2)\n",
      "Requirement already satisfied: pandas-stubs>=2.2.2.240807 in c:\\users\\dell.desktop-vrcqqht\\anaconda3\\lib\\site-packages (from skimpy) (2.2.3.241126)\n",
      "Requirement already satisfied: pandas>=2.2.3 in c:\\users\\dell.desktop-vrcqqht\\anaconda3\\lib\\site-packages (from skimpy) (2.2.3)\n",
      "Requirement already satisfied: polars>=1.17.1 in c:\\users\\dell.desktop-vrcqqht\\anaconda3\\lib\\site-packages (from skimpy) (1.21.0)\n",
      "Requirement already satisfied: pygments>=2.18.0 in c:\\users\\dell.desktop-vrcqqht\\anaconda3\\lib\\site-packages (from skimpy) (2.19.1)\n",
      "Requirement already satisfied: rich>=13.9.4 in c:\\users\\dell.desktop-vrcqqht\\anaconda3\\lib\\site-packages (from skimpy) (13.9.4)\n",
      "Requirement already satisfied: typeguard>=4.4.1 in c:\\users\\dell.desktop-vrcqqht\\anaconda3\\lib\\site-packages (from skimpy) (4.4.1)\n",
      "Requirement already satisfied: pyarrow>=17.0.0 in c:\\users\\dell.desktop-vrcqqht\\anaconda3\\lib\\site-packages (from skimpy) (19.0.0)\n",
      "Requirement already satisfied: ipython>=7.20.0 in c:\\users\\dell.desktop-vrcqqht\\anaconda3\\lib\\site-packages (from summarytools) (8.27.0)\n",
      "Requirement already satisfied: matplotlib>=3.3.0 in c:\\users\\dell.desktop-vrcqqht\\anaconda3\\lib\\site-packages (from summarytools) (3.9.2)\n",
      "Requirement already satisfied: colorama in c:\\users\\dell.desktop-vrcqqht\\anaconda3\\lib\\site-packages (from click>=8.1.7->skimpy) (0.4.6)\n",
      "Requirement already satisfied: comm>=0.1.1 in c:\\users\\dell.desktop-vrcqqht\\anaconda3\\lib\\site-packages (from ipykernel>=6.29.5->skimpy) (0.2.1)\n",
      "Requirement already satisfied: debugpy>=1.6.5 in c:\\users\\dell.desktop-vrcqqht\\anaconda3\\lib\\site-packages (from ipykernel>=6.29.5->skimpy) (1.6.7)\n",
      "Requirement already satisfied: jupyter-client>=6.1.12 in c:\\users\\dell.desktop-vrcqqht\\anaconda3\\lib\\site-packages (from ipykernel>=6.29.5->skimpy) (8.6.0)\n",
      "Requirement already satisfied: jupyter-core!=5.0.*,>=4.12 in c:\\users\\dell.desktop-vrcqqht\\anaconda3\\lib\\site-packages (from ipykernel>=6.29.5->skimpy) (5.7.2)\n",
      "Requirement already satisfied: matplotlib-inline>=0.1 in c:\\users\\dell.desktop-vrcqqht\\anaconda3\\lib\\site-packages (from ipykernel>=6.29.5->skimpy) (0.1.6)\n",
      "Requirement already satisfied: nest-asyncio in c:\\users\\dell.desktop-vrcqqht\\anaconda3\\lib\\site-packages (from ipykernel>=6.29.5->skimpy) (1.6.0)\n",
      "Requirement already satisfied: packaging in c:\\users\\dell.desktop-vrcqqht\\anaconda3\\lib\\site-packages (from ipykernel>=6.29.5->skimpy) (24.1)\n",
      "Requirement already satisfied: psutil in c:\\users\\dell.desktop-vrcqqht\\anaconda3\\lib\\site-packages (from ipykernel>=6.29.5->skimpy) (5.9.0)\n",
      "Requirement already satisfied: pyzmq>=24 in c:\\users\\dell.desktop-vrcqqht\\anaconda3\\lib\\site-packages (from ipykernel>=6.29.5->skimpy) (25.1.2)\n",
      "Requirement already satisfied: tornado>=6.1 in c:\\users\\dell.desktop-vrcqqht\\anaconda3\\lib\\site-packages (from ipykernel>=6.29.5->skimpy) (6.4.1)\n",
      "Requirement already satisfied: traitlets>=5.4.0 in c:\\users\\dell.desktop-vrcqqht\\anaconda3\\lib\\site-packages (from ipykernel>=6.29.5->skimpy) (5.14.3)\n",
      "Requirement already satisfied: decorator in c:\\users\\dell.desktop-vrcqqht\\anaconda3\\lib\\site-packages (from ipython>=7.20.0->summarytools) (5.1.1)\n",
      "Requirement already satisfied: jedi>=0.16 in c:\\users\\dell.desktop-vrcqqht\\anaconda3\\lib\\site-packages (from ipython>=7.20.0->summarytools) (0.19.1)\n",
      "Requirement already satisfied: prompt-toolkit<3.1.0,>=3.0.41 in c:\\users\\dell.desktop-vrcqqht\\anaconda3\\lib\\site-packages (from ipython>=7.20.0->summarytools) (3.0.43)\n",
      "Requirement already satisfied: stack-data in c:\\users\\dell.desktop-vrcqqht\\anaconda3\\lib\\site-packages (from ipython>=7.20.0->summarytools) (0.2.0)\n",
      "Requirement already satisfied: contourpy>=1.0.1 in c:\\users\\dell.desktop-vrcqqht\\anaconda3\\lib\\site-packages (from matplotlib>=3.3.0->summarytools) (1.3.1)\n",
      "Requirement already satisfied: cycler>=0.10 in c:\\users\\dell.desktop-vrcqqht\\anaconda3\\lib\\site-packages (from matplotlib>=3.3.0->summarytools) (0.11.0)\n",
      "Requirement already satisfied: fonttools>=4.22.0 in c:\\users\\dell.desktop-vrcqqht\\anaconda3\\lib\\site-packages (from matplotlib>=3.3.0->summarytools) (4.51.0)\n",
      "Requirement already satisfied: kiwisolver>=1.3.1 in c:\\users\\dell.desktop-vrcqqht\\anaconda3\\lib\\site-packages (from matplotlib>=3.3.0->summarytools) (1.4.4)\n",
      "Requirement already satisfied: pillow>=8 in c:\\users\\dell.desktop-vrcqqht\\anaconda3\\lib\\site-packages (from matplotlib>=3.3.0->summarytools) (10.4.0)\n",
      "Requirement already satisfied: pyparsing>=2.3.1 in c:\\users\\dell.desktop-vrcqqht\\anaconda3\\lib\\site-packages (from matplotlib>=3.3.0->summarytools) (3.1.2)\n",
      "Requirement already satisfied: python-dateutil>=2.7 in c:\\users\\dell.desktop-vrcqqht\\anaconda3\\lib\\site-packages (from matplotlib>=3.3.0->summarytools) (2.9.0.post0)\n",
      "Requirement already satisfied: pytz>=2020.1 in c:\\users\\dell.desktop-vrcqqht\\anaconda3\\lib\\site-packages (from pandas>=2.2.3->skimpy) (2024.1)\n",
      "Requirement already satisfied: tzdata>=2022.7 in c:\\users\\dell.desktop-vrcqqht\\anaconda3\\lib\\site-packages (from pandas>=2.2.3->skimpy) (2023.3)\n",
      "Requirement already satisfied: types-pytz>=2022.1.1 in c:\\users\\dell.desktop-vrcqqht\\anaconda3\\lib\\site-packages (from pandas-stubs>=2.2.2.240807->skimpy) (2025.1.0.20250204)\n",
      "Requirement already satisfied: markdown-it-py>=2.2.0 in c:\\users\\dell.desktop-vrcqqht\\anaconda3\\lib\\site-packages (from rich>=13.9.4->skimpy) (2.2.0)\n",
      "Requirement already satisfied: typing-extensions>=4.10.0 in c:\\users\\dell.desktop-vrcqqht\\anaconda3\\lib\\site-packages (from typeguard>=4.4.1->skimpy) (4.11.0)\n",
      "Requirement already satisfied: parso<0.9.0,>=0.8.3 in c:\\users\\dell.desktop-vrcqqht\\anaconda3\\lib\\site-packages (from jedi>=0.16->ipython>=7.20.0->summarytools) (0.8.3)\n",
      "Requirement already satisfied: platformdirs>=2.5 in c:\\users\\dell.desktop-vrcqqht\\anaconda3\\lib\\site-packages (from jupyter-core!=5.0.*,>=4.12->ipykernel>=6.29.5->skimpy) (3.10.0)\n",
      "Requirement already satisfied: pywin32>=300 in c:\\users\\dell.desktop-vrcqqht\\anaconda3\\lib\\site-packages (from jupyter-core!=5.0.*,>=4.12->ipykernel>=6.29.5->skimpy) (305.1)\n",
      "Requirement already satisfied: mdurl~=0.1 in c:\\users\\dell.desktop-vrcqqht\\anaconda3\\lib\\site-packages (from markdown-it-py>=2.2.0->rich>=13.9.4->skimpy) (0.1.0)\n",
      "Requirement already satisfied: wcwidth in c:\\users\\dell.desktop-vrcqqht\\anaconda3\\lib\\site-packages (from prompt-toolkit<3.1.0,>=3.0.41->ipython>=7.20.0->summarytools) (0.2.5)\n",
      "Requirement already satisfied: six>=1.5 in c:\\users\\dell.desktop-vrcqqht\\anaconda3\\lib\\site-packages (from python-dateutil>=2.7->matplotlib>=3.3.0->summarytools) (1.16.0)\n",
      "Requirement already satisfied: executing in c:\\users\\dell.desktop-vrcqqht\\anaconda3\\lib\\site-packages (from stack-data->ipython>=7.20.0->summarytools) (0.8.3)\n",
      "Requirement already satisfied: asttokens in c:\\users\\dell.desktop-vrcqqht\\anaconda3\\lib\\site-packages (from stack-data->ipython>=7.20.0->summarytools) (2.0.5)\n",
      "Requirement already satisfied: pure-eval in c:\\users\\dell.desktop-vrcqqht\\anaconda3\\lib\\site-packages (from stack-data->ipython>=7.20.0->summarytools) (0.2.2)\n"
     ]
    },
    {
     "data": {
      "text/html": [
       "<pre style=\"white-space:pre;overflow-x:auto;line-height:normal;font-family:Menlo,'DejaVu Sans Mono',consolas,'Courier New',monospace\">╭──────────────────────────────────────────────── skimpy summary ─────────────────────────────────────────────────╮\n",
       "│ <span style=\"font-style: italic\">         Data Summary         </span> <span style=\"font-style: italic\">      Data Types       </span>                                                          │\n",
       "│ ┏━━━━━━━━━━━━━━━━━━━┳━━━━━━━━┓ ┏━━━━━━━━━━━━━┳━━━━━━━┓                                                          │\n",
       "│ ┃<span style=\"color: #008080; text-decoration-color: #008080; font-weight: bold\"> Dataframe         </span>┃<span style=\"color: #008080; text-decoration-color: #008080; font-weight: bold\"> Values </span>┃ ┃<span style=\"color: #008080; text-decoration-color: #008080; font-weight: bold\"> Column Type </span>┃<span style=\"color: #008080; text-decoration-color: #008080; font-weight: bold\"> Count </span>┃                                                          │\n",
       "│ ┡━━━━━━━━━━━━━━━━━━━╇━━━━━━━━┩ ┡━━━━━━━━━━━━━╇━━━━━━━┩                                                          │\n",
       "│ │ Number of rows    │ 150    │ │ float64     │ 4     │                                                          │\n",
       "│ │ Number of columns │ 5      │ │ int32       │ 1     │                                                          │\n",
       "│ └───────────────────┴────────┘ └─────────────┴───────┘                                                          │\n",
       "│ <span style=\"font-style: italic\">                                                    number                                                    </span>  │\n",
       "│ ┏━━━━━━━━━━━━━━━━━━━━━━━━┳━━━━━┳━━━━━━━━┳━━━━━━━━━┳━━━━━━━━━━┳━━━━━━┳━━━━━━┳━━━━━━━━┳━━━━━━┳━━━━━━━┳━━━━━━━━━┓  │\n",
       "│ ┃<span style=\"font-weight: bold\"> column                 </span>┃<span style=\"font-weight: bold\"> NA  </span>┃<span style=\"font-weight: bold\"> NA %   </span>┃<span style=\"font-weight: bold\"> mean    </span>┃<span style=\"font-weight: bold\"> sd       </span>┃<span style=\"font-weight: bold\"> p0   </span>┃<span style=\"font-weight: bold\"> p25  </span>┃<span style=\"font-weight: bold\"> p50    </span>┃<span style=\"font-weight: bold\"> p75  </span>┃<span style=\"font-weight: bold\"> p100  </span>┃<span style=\"font-weight: bold\"> hist    </span>┃  │\n",
       "│ ┡━━━━━━━━━━━━━━━━━━━━━━━━╇━━━━━╇━━━━━━━━╇━━━━━━━━━╇━━━━━━━━━━╇━━━━━━╇━━━━━━╇━━━━━━━━╇━━━━━━╇━━━━━━━╇━━━━━━━━━┩  │\n",
       "│ │ <span style=\"color: #af87ff; text-decoration-color: #af87ff\">sepal length (cm)     </span> │ <span style=\"color: #008080; text-decoration-color: #008080\">  0</span> │ <span style=\"color: #008080; text-decoration-color: #008080\">     0</span> │ <span style=\"color: #008080; text-decoration-color: #008080\">  5.843</span> │ <span style=\"color: #008080; text-decoration-color: #008080\">  0.8281</span> │ <span style=\"color: #008080; text-decoration-color: #008080\"> 4.3</span> │ <span style=\"color: #008080; text-decoration-color: #008080\"> 5.1</span> │ <span style=\"color: #008080; text-decoration-color: #008080\">   5.8</span> │ <span style=\"color: #008080; text-decoration-color: #008080\"> 6.4</span> │ <span style=\"color: #008080; text-decoration-color: #008080\">  7.9</span> │ <span style=\"color: #008000; text-decoration-color: #008000\">▃▇▇▇▅▂ </span> │  │\n",
       "│ │ <span style=\"color: #af87ff; text-decoration-color: #af87ff\">sepal width (cm)      </span> │ <span style=\"color: #008080; text-decoration-color: #008080\">  0</span> │ <span style=\"color: #008080; text-decoration-color: #008080\">     0</span> │ <span style=\"color: #008080; text-decoration-color: #008080\">  3.057</span> │ <span style=\"color: #008080; text-decoration-color: #008080\">  0.4359</span> │ <span style=\"color: #008080; text-decoration-color: #008080\">   2</span> │ <span style=\"color: #008080; text-decoration-color: #008080\"> 2.8</span> │ <span style=\"color: #008080; text-decoration-color: #008080\">     3</span> │ <span style=\"color: #008080; text-decoration-color: #008080\"> 3.3</span> │ <span style=\"color: #008080; text-decoration-color: #008080\">  4.4</span> │ <span style=\"color: #008000; text-decoration-color: #008000\">▁▇▇▇▂▁ </span> │  │\n",
       "│ │ <span style=\"color: #af87ff; text-decoration-color: #af87ff\">petal length (cm)     </span> │ <span style=\"color: #008080; text-decoration-color: #008080\">  0</span> │ <span style=\"color: #008080; text-decoration-color: #008080\">     0</span> │ <span style=\"color: #008080; text-decoration-color: #008080\">  3.758</span> │ <span style=\"color: #008080; text-decoration-color: #008080\">   1.765</span> │ <span style=\"color: #008080; text-decoration-color: #008080\">   1</span> │ <span style=\"color: #008080; text-decoration-color: #008080\"> 1.6</span> │ <span style=\"color: #008080; text-decoration-color: #008080\">  4.35</span> │ <span style=\"color: #008080; text-decoration-color: #008080\"> 5.1</span> │ <span style=\"color: #008080; text-decoration-color: #008080\">  6.9</span> │ <span style=\"color: #008000; text-decoration-color: #008000\">▇ ▂▇▆▂ </span> │  │\n",
       "│ │ <span style=\"color: #af87ff; text-decoration-color: #af87ff\">petal width (cm)      </span> │ <span style=\"color: #008080; text-decoration-color: #008080\">  0</span> │ <span style=\"color: #008080; text-decoration-color: #008080\">     0</span> │ <span style=\"color: #008080; text-decoration-color: #008080\">  1.199</span> │ <span style=\"color: #008080; text-decoration-color: #008080\">  0.7622</span> │ <span style=\"color: #008080; text-decoration-color: #008080\"> 0.1</span> │ <span style=\"color: #008080; text-decoration-color: #008080\"> 0.3</span> │ <span style=\"color: #008080; text-decoration-color: #008080\">   1.3</span> │ <span style=\"color: #008080; text-decoration-color: #008080\"> 1.8</span> │ <span style=\"color: #008080; text-decoration-color: #008080\">  2.5</span> │ <span style=\"color: #008000; text-decoration-color: #008000\">▇ ▂▆▅▃ </span> │  │\n",
       "│ │ <span style=\"color: #af87ff; text-decoration-color: #af87ff\">target                </span> │ <span style=\"color: #008080; text-decoration-color: #008080\">  0</span> │ <span style=\"color: #008080; text-decoration-color: #008080\">     0</span> │ <span style=\"color: #008080; text-decoration-color: #008080\">      1</span> │ <span style=\"color: #008080; text-decoration-color: #008080\">  0.8192</span> │ <span style=\"color: #008080; text-decoration-color: #008080\">   0</span> │ <span style=\"color: #008080; text-decoration-color: #008080\">   0</span> │ <span style=\"color: #008080; text-decoration-color: #008080\">     1</span> │ <span style=\"color: #008080; text-decoration-color: #008080\">   2</span> │ <span style=\"color: #008080; text-decoration-color: #008080\">    2</span> │ <span style=\"color: #008000; text-decoration-color: #008000\">▇  ▇ ▇ </span> │  │\n",
       "│ └────────────────────────┴─────┴────────┴─────────┴──────────┴──────┴──────┴────────┴──────┴───────┴─────────┘  │\n",
       "╰────────────────────────────────────────────────────── End ──────────────────────────────────────────────────────╯\n",
       "</pre>\n"
      ],
      "text/plain": [
       "╭──────────────────────────────────────────────── skimpy summary ─────────────────────────────────────────────────╮\n",
       "│ \u001b[3m         Data Summary         \u001b[0m \u001b[3m      Data Types       \u001b[0m                                                          │\n",
       "│ ┏━━━━━━━━━━━━━━━━━━━┳━━━━━━━━┓ ┏━━━━━━━━━━━━━┳━━━━━━━┓                                                          │\n",
       "│ ┃\u001b[1;36m \u001b[0m\u001b[1;36mDataframe        \u001b[0m\u001b[1;36m \u001b[0m┃\u001b[1;36m \u001b[0m\u001b[1;36mValues\u001b[0m\u001b[1;36m \u001b[0m┃ ┃\u001b[1;36m \u001b[0m\u001b[1;36mColumn Type\u001b[0m\u001b[1;36m \u001b[0m┃\u001b[1;36m \u001b[0m\u001b[1;36mCount\u001b[0m\u001b[1;36m \u001b[0m┃                                                          │\n",
       "│ ┡━━━━━━━━━━━━━━━━━━━╇━━━━━━━━┩ ┡━━━━━━━━━━━━━╇━━━━━━━┩                                                          │\n",
       "│ │ Number of rows    │ 150    │ │ float64     │ 4     │                                                          │\n",
       "│ │ Number of columns │ 5      │ │ int32       │ 1     │                                                          │\n",
       "│ └───────────────────┴────────┘ └─────────────┴───────┘                                                          │\n",
       "│ \u001b[3m                                                    number                                                    \u001b[0m  │\n",
       "│ ┏━━━━━━━━━━━━━━━━━━━━━━━━┳━━━━━┳━━━━━━━━┳━━━━━━━━━┳━━━━━━━━━━┳━━━━━━┳━━━━━━┳━━━━━━━━┳━━━━━━┳━━━━━━━┳━━━━━━━━━┓  │\n",
       "│ ┃\u001b[1m \u001b[0m\u001b[1mcolumn                \u001b[0m\u001b[1m \u001b[0m┃\u001b[1m \u001b[0m\u001b[1mNA \u001b[0m\u001b[1m \u001b[0m┃\u001b[1m \u001b[0m\u001b[1mNA %  \u001b[0m\u001b[1m \u001b[0m┃\u001b[1m \u001b[0m\u001b[1mmean   \u001b[0m\u001b[1m \u001b[0m┃\u001b[1m \u001b[0m\u001b[1msd      \u001b[0m\u001b[1m \u001b[0m┃\u001b[1m \u001b[0m\u001b[1mp0  \u001b[0m\u001b[1m \u001b[0m┃\u001b[1m \u001b[0m\u001b[1mp25 \u001b[0m\u001b[1m \u001b[0m┃\u001b[1m \u001b[0m\u001b[1mp50   \u001b[0m\u001b[1m \u001b[0m┃\u001b[1m \u001b[0m\u001b[1mp75 \u001b[0m\u001b[1m \u001b[0m┃\u001b[1m \u001b[0m\u001b[1mp100 \u001b[0m\u001b[1m \u001b[0m┃\u001b[1m \u001b[0m\u001b[1mhist   \u001b[0m\u001b[1m \u001b[0m┃  │\n",
       "│ ┡━━━━━━━━━━━━━━━━━━━━━━━━╇━━━━━╇━━━━━━━━╇━━━━━━━━━╇━━━━━━━━━━╇━━━━━━╇━━━━━━╇━━━━━━━━╇━━━━━━╇━━━━━━━╇━━━━━━━━━┩  │\n",
       "│ │ \u001b[38;5;141msepal length (cm)     \u001b[0m │ \u001b[36m  0\u001b[0m │ \u001b[36m     0\u001b[0m │ \u001b[36m  5.843\u001b[0m │ \u001b[36m  0.8281\u001b[0m │ \u001b[36m 4.3\u001b[0m │ \u001b[36m 5.1\u001b[0m │ \u001b[36m   5.8\u001b[0m │ \u001b[36m 6.4\u001b[0m │ \u001b[36m  7.9\u001b[0m │ \u001b[32m▃▇▇▇▅▂ \u001b[0m │  │\n",
       "│ │ \u001b[38;5;141msepal width (cm)      \u001b[0m │ \u001b[36m  0\u001b[0m │ \u001b[36m     0\u001b[0m │ \u001b[36m  3.057\u001b[0m │ \u001b[36m  0.4359\u001b[0m │ \u001b[36m   2\u001b[0m │ \u001b[36m 2.8\u001b[0m │ \u001b[36m     3\u001b[0m │ \u001b[36m 3.3\u001b[0m │ \u001b[36m  4.4\u001b[0m │ \u001b[32m▁▇▇▇▂▁ \u001b[0m │  │\n",
       "│ │ \u001b[38;5;141mpetal length (cm)     \u001b[0m │ \u001b[36m  0\u001b[0m │ \u001b[36m     0\u001b[0m │ \u001b[36m  3.758\u001b[0m │ \u001b[36m   1.765\u001b[0m │ \u001b[36m   1\u001b[0m │ \u001b[36m 1.6\u001b[0m │ \u001b[36m  4.35\u001b[0m │ \u001b[36m 5.1\u001b[0m │ \u001b[36m  6.9\u001b[0m │ \u001b[32m▇ ▂▇▆▂ \u001b[0m │  │\n",
       "│ │ \u001b[38;5;141mpetal width (cm)      \u001b[0m │ \u001b[36m  0\u001b[0m │ \u001b[36m     0\u001b[0m │ \u001b[36m  1.199\u001b[0m │ \u001b[36m  0.7622\u001b[0m │ \u001b[36m 0.1\u001b[0m │ \u001b[36m 0.3\u001b[0m │ \u001b[36m   1.3\u001b[0m │ \u001b[36m 1.8\u001b[0m │ \u001b[36m  2.5\u001b[0m │ \u001b[32m▇ ▂▆▅▃ \u001b[0m │  │\n",
       "│ │ \u001b[38;5;141mtarget                \u001b[0m │ \u001b[36m  0\u001b[0m │ \u001b[36m     0\u001b[0m │ \u001b[36m      1\u001b[0m │ \u001b[36m  0.8192\u001b[0m │ \u001b[36m   0\u001b[0m │ \u001b[36m   0\u001b[0m │ \u001b[36m     1\u001b[0m │ \u001b[36m   2\u001b[0m │ \u001b[36m    2\u001b[0m │ \u001b[32m▇  ▇ ▇ \u001b[0m │  │\n",
       "│ └────────────────────────┴─────┴────────┴─────────┴──────────┴──────┴──────┴────────┴──────┴───────┴─────────┘  │\n",
       "╰────────────────────────────────────────────────────── End ──────────────────────────────────────────────────────╯\n"
      ]
     },
     "metadata": {},
     "output_type": "display_data"
    },
    {
     "data": {
      "text/html": [
       "<style type=\"text/css\">\n",
       "#T_fb8d5 thead>tr>th {\n",
       "  text-align: left;\n",
       "}\n",
       "#T_fb8d5_row0_col0, #T_fb8d5_row1_col0, #T_fb8d5_row2_col0, #T_fb8d5_row3_col0, #T_fb8d5_row4_col0 {\n",
       "  text-align: left;\n",
       "  font-size: 12px;\n",
       "  vertical-align: middle;\n",
       "  width: 5%;\n",
       "  max-width: 50px;\n",
       "  min-width: 20px;\n",
       "}\n",
       "#T_fb8d5_row0_col1, #T_fb8d5_row1_col1, #T_fb8d5_row2_col1, #T_fb8d5_row3_col1, #T_fb8d5_row4_col1 {\n",
       "  text-align: left;\n",
       "  font-size: 12px;\n",
       "  vertical-align: middle;\n",
       "  width: 15%;\n",
       "  max-width: 200px;\n",
       "  min-width: 100px;\n",
       "  word-break: break-word;\n",
       "}\n",
       "#T_fb8d5_row0_col2, #T_fb8d5_row1_col2, #T_fb8d5_row2_col2, #T_fb8d5_row3_col2, #T_fb8d5_row4_col2 {\n",
       "  text-align: left;\n",
       "  font-size: 12px;\n",
       "  vertical-align: middle;\n",
       "  width: 30%;\n",
       "  min-width: 100px;\n",
       "}\n",
       "#T_fb8d5_row0_col3, #T_fb8d5_row1_col3, #T_fb8d5_row2_col3, #T_fb8d5_row3_col3, #T_fb8d5_row4_col3 {\n",
       "  text-align: left;\n",
       "  font-size: 12px;\n",
       "  vertical-align: middle;\n",
       "  width: 25%;\n",
       "  min-width: 100px;\n",
       "}\n",
       "#T_fb8d5_row0_col4, #T_fb8d5_row1_col4, #T_fb8d5_row2_col4, #T_fb8d5_row3_col4, #T_fb8d5_row4_col4 {\n",
       "  text-align: left;\n",
       "  font-size: 12px;\n",
       "  vertical-align: middle;\n",
       "  width: 20%;\n",
       "  min-width: 150px;\n",
       "}\n",
       "#T_fb8d5_row0_col5, #T_fb8d5_row1_col5, #T_fb8d5_row2_col5, #T_fb8d5_row3_col5, #T_fb8d5_row4_col5 {\n",
       "  text-align: left;\n",
       "  font-size: 12px;\n",
       "  vertical-align: middle;\n",
       "  width: 10%;\n",
       "}\n",
       "</style>\n",
       "<table id=\"T_fb8d5\">\n",
       "  <caption><strong>Data Frame Summary</strong><br>df<br>Dimensions: 150 x 5<br>Duplicates: 1</caption>\n",
       "  <thead>\n",
       "    <tr>\n",
       "      <th id=\"T_fb8d5_level0_col0\" class=\"col_heading level0 col0\" >No</th>\n",
       "      <th id=\"T_fb8d5_level0_col1\" class=\"col_heading level0 col1\" >Variable</th>\n",
       "      <th id=\"T_fb8d5_level0_col2\" class=\"col_heading level0 col2\" >Stats / Values</th>\n",
       "      <th id=\"T_fb8d5_level0_col3\" class=\"col_heading level0 col3\" >Freqs / (% of Valid)</th>\n",
       "      <th id=\"T_fb8d5_level0_col4\" class=\"col_heading level0 col4\" >Graph</th>\n",
       "      <th id=\"T_fb8d5_level0_col5\" class=\"col_heading level0 col5\" >Missing</th>\n",
       "    </tr>\n",
       "  </thead>\n",
       "  <tbody>\n",
       "    <tr>\n",
       "      <td id=\"T_fb8d5_row0_col0\" class=\"data row0 col0\" >1</td>\n",
       "      <td id=\"T_fb8d5_row0_col1\" class=\"data row0 col1\" ><strong>sepal length (cm)</strong><br>[float64]</td>\n",
       "      <td id=\"T_fb8d5_row0_col2\" class=\"data row0 col2\" >Mean (sd) : 5.8 (0.8)<br>min < med < max:<br>4.3 < 5.8 < 7.9<br>IQR (CV) : 1.3 (7.1)</td>\n",
       "      <td id=\"T_fb8d5_row0_col3\" class=\"data row0 col3\" >35 distinct values</td>\n",
       "      <td id=\"T_fb8d5_row0_col4\" class=\"data row0 col4\" ><img src = \"data:image/png;base64, iVBORw0KGgoAAAANSUhEUgAAAKoAAABGCAYAAABc8A97AAAAOXRFWHRTb2Z0d2FyZQBNYXRwbG90bGliIHZlcnNpb24zLjkuMiwgaHR0cHM6Ly9tYXRwbG90bGliLm9yZy8hTgPZAAAACXBIWXMAAA9hAAAPYQGoP6dpAAACtElEQVR4nO3dTYriQBiA4a/GVqJCggi68wIDs3DpIeawc4RZeAJv4E6QEDHTwZhkVg09je1PVTLWV/0++/wsXuRLUl1tmqYRwHffnn0DwD1enn0DXTHGDEVk4HCKU9M0r23dD9wEGaoxZjidTn/GcTyxPcfhcEiNMb+I1Q9BhioigziOJ6vV6jVJkuLRg7Msi9br9WS/3w9EhFA9EGqoIiKSJEkxm83+WB4+tL2u49jByHFB0KE+g+vYwchxGaG2z3rsYOT4HKF2xGHssB45QsZ7VKhAqFCBUKFCpzMqX4fQls5C5esQ2tTlLypfh9Cazl9PPevrEMLCwxRUIFSoQKhQgVChAqFCBUKFCoQKFQgVKhAqVGDhtGeqquqLSGyMsT1FkAt5CNUjeZ73y7L8sVgser1e7+H1ESLhLuQhVI+cTqeXKIpGy+WymM/n6aPHh7yQh1A9NB6PWcjzAaF+wmFWjOu67ndwS18aoV7gMiuWZRlVVfW9KIrfImL7q4gPCPUCl1lxu91ONpvN6Hw+97q6v6+IUK+wmRXTNA1yRnw2XvhDBa9/UXmgwRtvQ+WBBu95GyoPNHjP21Df8EADER6moAShQgVChQqEChUIFSoQKlQgVKhAqFCBUKHCzS9TDtubszAErbkaqsv25iwMQZtu/aJab2/OwhC06a5FKTbbm7MwBG3iYQoqECpUIFSo4P3CaTzGcZM1pw3WHP9T49VrE2pAXDdZc9lgzfU/Nd66NqEGxOXvzFrYYM36VeY91ybUANluslZVVSz2Y0Nc13U/SZLUcoO3q68zCRUi4j42dP0lklAhIu57s3b9JZJQ8Q/bsaHrL5G8R4UKhAoVCBUqECpUIFSoQKhQgVChAqFChbte+GdZFj164uPxGImI5Hke7Xa70f88Xuu1td636/H39PUXZ5y8xRUXT9kAAAAASUVORK5CYII=\"></img></td>\n",
       "      <td id=\"T_fb8d5_row0_col5\" class=\"data row0 col5\" >0<br>(0.0%)</td>\n",
       "    </tr>\n",
       "    <tr>\n",
       "      <td id=\"T_fb8d5_row1_col0\" class=\"data row1 col0\" >2</td>\n",
       "      <td id=\"T_fb8d5_row1_col1\" class=\"data row1 col1\" ><strong>sepal width (cm)</strong><br>[float64]</td>\n",
       "      <td id=\"T_fb8d5_row1_col2\" class=\"data row1 col2\" >Mean (sd) : 3.1 (0.4)<br>min < med < max:<br>2.0 < 3.0 < 4.4<br>IQR (CV) : 0.5 (7.0)</td>\n",
       "      <td id=\"T_fb8d5_row1_col3\" class=\"data row1 col3\" >23 distinct values</td>\n",
       "      <td id=\"T_fb8d5_row1_col4\" class=\"data row1 col4\" ><img src = \"data:image/png;base64, iVBORw0KGgoAAAANSUhEUgAAAKoAAABGCAYAAABc8A97AAAAOXRFWHRTb2Z0d2FyZQBNYXRwbG90bGliIHZlcnNpb24zLjkuMiwgaHR0cHM6Ly9tYXRwbG90bGliLm9yZy8hTgPZAAAACXBIWXMAAA9hAAAPYQGoP6dpAAACxUlEQVR4nO3dvY7aQBRA4TuwgPmRLYQCHU3KSCkoeYg8bB5hC55gi21S0SEhBMJZhLFJEaWIwgL2jLNzh/P1I1wcYdkznjHn81kA3zU++gKAezx99AX4yhjTFZF2xeHH8/n85vJ6Hh2hXmCM6Y5Go29xHA+rjN/tdhtjzHdidYdQL2vHcTycz+dvSZIcygzcbrfRYrEYrtfrtogQqiOEekWSJIfxePyzwtCu84t5cDxMQQVChQqEChUIFSoQKlQgVKhAqFCB96g1yPO8JSKxMabKcKZfLyBUx9I0bWVZ9nU6nTabzWapWS0Rpl/fQ6iOHY/HpyiKerPZ7DCZTDZlxjL9+j5CrUm/32f61SEepqACoUIFQoUKhAoVCBUqECpUIFSoQKhQgVChQrAzU5bf5cdFUbRcXg/sBBmq7Xf5WZZFeZ5/ORwOzyJSZRoUjgUZqlh8ly8islwuhy8vL73T6dSs4+JQntehWty+46IoWkmSbKosDNlsNiwM8Yy3odrcvrl1h8fbUMXi9s2tOzw+hyoi1bbV4dYdHt6jQgVChQqEChUIFSoQKlQgVKhAqFCBUKECoUIFQoUKhAoVCBUqECpUIFSoQKhQgVChgvcLp1FOqMe3E2pAQj6+nVA9Y3miSjwYDMbz+XwX2vHthOoR2xNV/nx92+l0nkM7P4BQPWJzoopI2F/fEqqHqp6oEvLXt7yeggq1/qOyox5cqS1UdtSDS3X+o7KjHpyp/WGqypY8ImE/GKA8HqagAqFChZu3ftvNdCuMA/5xNVQ204Uvbv2jspkuvHDXUz+b6T4Gy5VbIr+feYqKY6+uhWWuHyJiv3Irz/NWmqafB4PBj0ajkZUdf2stLKFCRJyt3Po0m81ey46/Zy0soeIvtiu3qo6XG2th7wp1u91GZX91v99HIiJpmkar1ar3P8dr/W2t1207/p6+fgFn6pgB3UdKUAAAAABJRU5ErkJggg==\"></img></td>\n",
       "      <td id=\"T_fb8d5_row1_col5\" class=\"data row1 col5\" >0<br>(0.0%)</td>\n",
       "    </tr>\n",
       "    <tr>\n",
       "      <td id=\"T_fb8d5_row2_col0\" class=\"data row2 col0\" >3</td>\n",
       "      <td id=\"T_fb8d5_row2_col1\" class=\"data row2 col1\" ><strong>petal length (cm)</strong><br>[float64]</td>\n",
       "      <td id=\"T_fb8d5_row2_col2\" class=\"data row2 col2\" >Mean (sd) : 3.8 (1.8)<br>min < med < max:<br>1.0 < 4.3 < 6.9<br>IQR (CV) : 3.5 (2.1)</td>\n",
       "      <td id=\"T_fb8d5_row2_col3\" class=\"data row2 col3\" >43 distinct values</td>\n",
       "      <td id=\"T_fb8d5_row2_col4\" class=\"data row2 col4\" ><img src = \"data:image/png;base64, iVBORw0KGgoAAAANSUhEUgAAAKoAAABGCAYAAABc8A97AAAAOXRFWHRTb2Z0d2FyZQBNYXRwbG90bGliIHZlcnNpb24zLjkuMiwgaHR0cHM6Ly9tYXRwbG90bGliLm9yZy8hTgPZAAAACXBIWXMAAA9hAAAPYQGoP6dpAAACp0lEQVR4nO3dTYriQBjG8afGD6JCRATdeYGBWbj0EHPYOcIsPIE3cCeIRMy0qNHZDQzT02pVYtdb/H/rrhjohyTvm6qKu91uAmL35bNPAHhE+94fOOd6krqexz/dbrc3z7HAHx8G1TnXG4/H3/M8H/kcfL/f75xzPwgrQt27onbzPB8tFou34XB4fObARVFky+VytN1uu5IIKoLcvfVL0nA4PE4mk18ex+95jAH+QTEFEwgqTCCoMIGgwgSCChMIKkwgqDCBoMIEggoTCCpMIKgw4aF3/XidwGmVUqJTKwlqREKnVUrpTq0kqHHxnlYppT21kqBGKGBapZTo1EqKKZjAFbUBAQVRfr1eO3WfTwoIas1CCqLz+ZxVVfX1eDz+lOR7608SQa2fd0G0Xq9Hq9Wqf7lcWk2dnFUEtSE+BdFut0uyEKoDxRRMIKgwgaDCBIIKEwgqTCCoMIGgwgSCChMIKkwgqDCBoMIE3vUnpqqqjqTcOeczPNr1VgQ1IWVZds7n87fZbNZqtVpPL2WJeb0VQU3I6XRqZ1nWn8/nx+l0untmbOzrrQhqggaDQXJb2VNMwQSCChMIKkwgqDCBoMKERqv+wOazFHEDGq/VWFBDm89S3A1ovFZjQQ1pPkvxN6DxWo03/AOaz1LEDegUxfyoxpspSIr/UY2gQlL8j2oEFX+J9VGNPipMIKgwgVv/f7AZb1wI6jvYjDc+BPV9bMYbGYL6ATbjjQfFFEzgioraNLlUm6CiFk0v1SaoqEXTS7UJKmrV1FLtZIMa+DlxmvaRSTKooZ8Tp2kfnySDqsDPidO0j0+qQZXk/zlxmvbxoeEPEx66ohZFkT174MPhkElSWZbZZrPpPzu+KIqsqqq2/BrI+fV6bfuctxR27p811vJvP/J/+g3LcowOEmBq9gAAAABJRU5ErkJggg==\"></img></td>\n",
       "      <td id=\"T_fb8d5_row2_col5\" class=\"data row2 col5\" >0<br>(0.0%)</td>\n",
       "    </tr>\n",
       "    <tr>\n",
       "      <td id=\"T_fb8d5_row3_col0\" class=\"data row3 col0\" >4</td>\n",
       "      <td id=\"T_fb8d5_row3_col1\" class=\"data row3 col1\" ><strong>petal width (cm)</strong><br>[float64]</td>\n",
       "      <td id=\"T_fb8d5_row3_col2\" class=\"data row3 col2\" >Mean (sd) : 1.2 (0.8)<br>min < med < max:<br>0.1 < 1.3 < 2.5<br>IQR (CV) : 1.5 (1.6)</td>\n",
       "      <td id=\"T_fb8d5_row3_col3\" class=\"data row3 col3\" >22 distinct values</td>\n",
       "      <td id=\"T_fb8d5_row3_col4\" class=\"data row3 col4\" ><img src = \"data:image/png;base64, iVBORw0KGgoAAAANSUhEUgAAAKoAAABGCAYAAABc8A97AAAAOXRFWHRTb2Z0d2FyZQBNYXRwbG90bGliIHZlcnNpb24zLjkuMiwgaHR0cHM6Ly9tYXRwbG90bGliLm9yZy8hTgPZAAAACXBIWXMAAA9hAAAPYQGoP6dpAAACvUlEQVR4nO3bu47aQBSA4TNhAXORASFBR0sRKQUlD5GHzSNswRPQUtEhLjLCWYdrmoQmyoI9Htln+L96x7j4Pct4BnO73QQouy9F3wDwjLdHf2CMaYhILeP1j7fb7SPjWODu01CNMY1+v/89DMNelovv9/udMeYHscLWoxm1FoZhbzqdfnQ6nSTNhaMoCmazWW+z2dREhFBh5eG/fhGRTqeTDAaDnxmu38gwBvgHiymoQKhQgVChAqFCBUKFCoQKFQgVKhAqVCBUqPDUzhTS4SBP/gg1ZxzkcYNQ88dBHgcI1REO8uSLxRRUIFSoQKhQgVChAqFCBUKFCoQKFQgVKhAqVCBUqECoUIFQoQKhQgVOT3nG10PbhOoRnw9tE6pfvD20Tage8vHQNospqECoUIFQoQKhQgVChQqEChUIFSoQKlQgVKhAqFCBLVTkxuXJLUJFLlyf3CJU5MXpyS1CRa5cndxiMQUVCBUqECpUIFSowGIKd5fLpSoioTEmy/Dwer1Wc76lO0KFiIjEcVw9nU7fRqNRpVKppHq9JCJyOp2Cy+XyNUmSdxHJsur/lNNQLZ9QkQJ/Z26xy+J0ZnHleDy+BUHQnEwmyXA43KUdv1wue/P5vHk+nysu7s9ZqLZPqEhxvzO32WVxPbO41mq1Mr0H3e12Tn/B6ixU2yfU9nfmlvvOYbvdHkyn033aXRbXM8urcv4dNesT+kemp9R23/nvrFiv19/T3rvtzFLmBU2RfF1MZd53FiluViz7gqZIvoYqItn3nV1/3/qfsi9oiuR1qFqVdUFTJHamoAKhQgVChQqEChVKvZiyeKfo7fvEV1XaUG3eKfr8PvFVPRVqFEVB2gsfDodARCSO42C1WjXTjt9ut+0gCJrj8dh0u91facau1+tgsVg0oyhqrVarY9rPtrn3osZq/uxn+voNGCSXKAOFnKMAAAAASUVORK5CYII=\"></img></td>\n",
       "      <td id=\"T_fb8d5_row3_col5\" class=\"data row3 col5\" >0<br>(0.0%)</td>\n",
       "    </tr>\n",
       "    <tr>\n",
       "      <td id=\"T_fb8d5_row4_col0\" class=\"data row4 col0\" >5</td>\n",
       "      <td id=\"T_fb8d5_row4_col1\" class=\"data row4 col1\" ><strong>target</strong><br>[int32]</td>\n",
       "      <td id=\"T_fb8d5_row4_col2\" class=\"data row4 col2\" >1. 0<br>2. 1<br>3. 2</td>\n",
       "      <td id=\"T_fb8d5_row4_col3\" class=\"data row4 col3\" >50 (33.3%)<br>50 (33.3%)<br>50 (33.3%)</td>\n",
       "      <td id=\"T_fb8d5_row4_col4\" class=\"data row4 col4\" ><img src = \"data:image/png;base64, iVBORw0KGgoAAAANSUhEUgAAAJsAAABFCAYAAABdVZTTAAAAOXRFWHRTb2Z0d2FyZQBNYXRwbG90bGliIHZlcnNpb24zLjkuMiwgaHR0cHM6Ly9tYXRwbG90bGliLm9yZy8hTgPZAAAACXBIWXMAAA9hAAAPYQGoP6dpAAABZUlEQVR4nO3bQWrCYBSF0ZcSSp0kBMHFuIgutovIbkT8B23pJB10aGeV+4s9ZwVP+FAiucO2bQUJT70P4P8YqmpXVc+9D7mhr23bPnofwbVxv9+/TtO09D7kVlpr52EY3gR3f8Zpmpbj8fgxz/Nn72P+6nK5vKzrupxOp+eqEtudGauq5nn+PBwO772PuZFd7wP4nQcEYsRGjNiIERsxYiNGbMSIjRixESM2YsRGjNiIERsxYiNGbMSMVT/vgfU+5BYe5XM8qrG1dl7XdakHeQ+stXauqq/ed3DNBoGYwZSPFN9sxFhXEWNdRYx1FTH+1CVGbMSIjRixESM2YsRGjNiIERsxYiNGbMSIjRixESM2YsRGjHUVMdZVxNggEGNdRYwHBGL8jBJjykeMKR8xpnzEeEAgRmzEiI0YsREjNmLERozYiBEbMWIjRmzEiI0YsREjNmLERowpHzGmfMTYIBBjykfMN77xo0reSBZ8AAAAAElFTkSuQmCC\"></img></td>\n",
       "      <td id=\"T_fb8d5_row4_col5\" class=\"data row4 col5\" >0<br>(0.0%)</td>\n",
       "    </tr>\n",
       "  </tbody>\n",
       "</table>\n"
      ],
      "text/plain": [
       "<pandas.io.formats.style.Styler at 0x246d466a540>"
      ]
     },
     "execution_count": 8,
     "metadata": {},
     "output_type": "execute_result"
    }
   ],
   "source": [
    "!pip install skimpy summarytools\n",
    "\n",
    "from skimpy import skim\n",
    "skim(df)\n",
    "\n",
    "from summarytools import dfSummary\n",
    "dfSummary(df)"
   ]
  },
  {
   "cell_type": "markdown",
   "metadata": {
    "id": "_uuPmatCQM47"
   },
   "source": [
    "# Practise Session - II : Libraries - Pandas, Numpy and Matplotlib."
   ]
  },
  {
   "cell_type": "code",
   "execution_count": 14,
   "metadata": {
    "colab": {
     "base_uri": "https://localhost:8080/"
    },
    "id": "pXsVXI0mIZtc",
    "outputId": "ff2e2a61-6746-42fa-b0c9-206917a99c81"
   },
   "outputs": [
    {
     "name": "stdout",
     "output_type": "stream",
     "text": [
      "[ 2  3  4  5  6  7  8  9 10 11]\n"
     ]
    }
   ],
   "source": [
    "# prompt: using numpy, generate 1D array numbers from 0 to 9\n",
    "import numpy as np\n",
    "arr = np.arange(2,12,1)\n",
    "print(arr)"
   ]
  },
  {
   "cell_type": "code",
   "execution_count": 15,
   "metadata": {
    "colab": {
     "base_uri": "https://localhost:8080/"
    },
    "id": "i3o7NjE5LJTO",
    "outputId": "0a1ad203-8b4b-4861-cdea-70f9ecdade96"
   },
   "outputs": [
    {
     "name": "stdout",
     "output_type": "stream",
     "text": [
      "[[ 2  3  4  5  6]\n",
      " [ 7  8  9 10 11]]\n"
     ]
    }
   ],
   "source": [
    "arr_reshaped = arr.reshape(2, 5)\n",
    "print(arr_reshaped)"
   ]
  },
  {
   "cell_type": "code",
   "execution_count": 16,
   "metadata": {
    "colab": {
     "base_uri": "https://localhost:8080/",
     "height": 391
    },
    "id": "c4jOA7lTOY9E",
    "outputId": "a191df83-7471-4f67-964f-6defc68206dc"
   },
   "outputs": [
    {
     "name": "stdout",
     "output_type": "stream",
     "text": [
      "   0  1  2   3   4\n",
      "0  2  3  4   5   6\n",
      "1  7  8  9  10  11\n",
      "    0\n",
      "0   2\n",
      "1   3\n",
      "2   4\n",
      "3   5\n",
      "4   6\n",
      "5   7\n",
      "6   8\n",
      "7   9\n",
      "8  10\n",
      "9  11\n"
     ]
    }
   ],
   "source": [
    "import pandas as pd\n",
    "df1 = pd.DataFrame(arr_reshaped)\n",
    "print(df1)\n",
    "df2=pd.DataFrame(arr)\n",
    "print(df2)"
   ]
  },
  {
   "cell_type": "code",
   "execution_count": 17,
   "metadata": {
    "colab": {
     "base_uri": "https://localhost:8080/"
    },
    "id": "MzugTUKy3bnp",
    "outputId": "d2f5a4ae-007c-4db9-bdf4-8e4de70b0f86"
   },
   "outputs": [
    {
     "name": "stdout",
     "output_type": "stream",
     "text": [
      "\n",
      "Method 2:\n",
      " 7\n"
     ]
    }
   ],
   "source": [
    "# prompt: FIND A ELEMENT IN DATAFRAME\n",
    "\n",
    "# Method 2: Using .iloc[] (integer-based indexing)\n",
    "# Find the second row in df1\n",
    "result2 = df1.iloc[1,0]\n",
    "print(\"\\nMethod 2:\\n\", result2)"
   ]
  },
  {
   "cell_type": "code",
   "execution_count": 24,
   "metadata": {
    "colab": {
     "base_uri": "https://localhost:8080/",
     "height": 472
    },
    "id": "d_5AGCZGJOPn",
    "outputId": "2706e0da-7174-4735-b960-a85bdf960445"
   },
   "outputs": [
    {
     "data": {
      "image/png": "[encoded data removed]",
      "text/plain": [
       "<Figure size 640x480 with 1 Axes>"
      ]
     },
     "metadata": {},
     "output_type": "display_data"
    }
   ],
   "source": [
    "# prompt: plot a barchart of dataframe using matplotlib\n",
    "\n",
    "import matplotlib.pyplot as plt\n",
    "\n",
    "# Assuming 'data1' is the DataFrame you want to plot\n",
    "# Choose the columns you want to plot on the x and y axes\n",
    "x_column = 'Name of students'\n",
    "y_column = 'Subject1'\n",
    "\n",
    "plt.bar(data1[x_column], data1[y_column])\n",
    "plt.xlabel(x_column)\n",
    "plt.ylabel(y_column)\n",
    "plt.title('Bar Chart of Student Scores')\n",
    "plt.show()\n"
   ]
  },
  {
   "cell_type": "code",
   "execution_count": 20,
   "metadata": {
    "id": "-gWS5-WnOyvb"
   },
   "outputs": [],
   "source": [
    "df.to_csv(\"output_filename.csv\", index=False, encoding='utf8')\n",
    "# Output data to an Excel file.\n",
    "# For the excel output to work, you may need to install the \"xlsxwriter\" package.\n",
    "df.to_excel(\"output_excel_file.xlsx\", sheet_name=\"Sheet 1\", index=False)"
   ]
  },
  {
   "cell_type": "code",
   "execution_count": 25,
   "metadata": {
    "colab": {
     "base_uri": "https://localhost:8080/"
    },
    "id": "G78FiCRXPwfE",
    "outputId": "34ac51e9-94de-4658-b308-f01edd27be50"
   },
   "outputs": [
    {
     "name": "stdout",
     "output_type": "stream",
     "text": [
      "89.76923076923077 87.0 ModeResult(mode=86, count=3)\n"
     ]
    }
   ],
   "source": [
    "wl = [99,86,87,88,111,86,103,87,94,78,77,85,86]\n",
    "m=np.mean(wl)\n",
    "n=np.median(wl)\n",
    "\n",
    "from scipy import stats\n",
    "t=stats.mode(wl)\n",
    "t\n",
    "print(m,n,t)"
   ]
  },
  {
   "cell_type": "markdown",
   "metadata": {
    "id": "Q04M5xfYSPFa"
   },
   "source": [
    "# Practise Session - III : (User-defined) functions"
   ]
  },
  {
   "cell_type": "code",
   "execution_count": null,
   "metadata": {
    "id": "ouCOoJycSK0a"
   },
   "outputs": [],
   "source": [
    "# WAP having a Python function, scan_list that takes a list of integers and returns a dictionary with keys 'sum', 'average', 'max', and 'min', USING numpy. Demonstrate this function with the list [10, 20, 30, 40, 50].\n",
    "# Write the results in a csv file."
   ]
  },
  {
   "cell_type": "markdown",
   "metadata": {
    "id": "NkB5oUjyUKLp"
   },
   "source": [
    "# Practise Session - IV : Loops"
   ]
  },
  {
   "cell_type": "code",
   "execution_count": null,
   "metadata": {
    "colab": {
     "base_uri": "https://localhost:8080/"
    },
    "collapsed": true,
    "id": "5l0l-WVVUJop",
    "jupyter": {
     "outputs_hidden": true
    },
    "outputId": "85358747-25f7-43fb-b434-7f038c03f9a4"
   },
   "outputs": [
    {
     "ename": "SyntaxError",
     "evalue": "expected 'else' after 'if' expression (<ipython-input-10-8f9bf21ebd98>, line 1)",
     "output_type": "error",
     "traceback": [
      "\u001b[0;36m  File \u001b[0;32m\"<ipython-input-10-8f9bf21ebd98>\"\u001b[0;36m, line \u001b[0;32m1\u001b[0m\n\u001b[0;31m    write a Python script that takes a user input number and checks if it is even or odd, printing \"Even\" or \"Odd\" accordingly.\u001b[0m\n\u001b[0m                                                  ^\u001b[0m\n\u001b[0;31mSyntaxError\u001b[0m\u001b[0;31m:\u001b[0m expected 'else' after 'if' expression\n"
     ]
    }
   ],
   "source": [
    "# Write a Python script that takes a user input number and checks if it is even or odd, printing \"Even\" or \"Odd\" accordingly"
   ]
  },
  {
   "cell_type": "code",
   "execution_count": null,
   "metadata": {
    "id": "3OuzC_pmU0Kq"
   },
   "outputs": [],
   "source": [
    "# WAP having a Python function, scan_list that takes a list of integers and returns a dictionary with keys 'sum', 'average', 'max', and 'min', WITHOUT USING numpy. Demonstrate this function with the list [10, 20, 30, 40, 50].\n",
    "# Write the results in a csv file.\n"
   ]
  },
  {
   "cell_type": "markdown",
   "metadata": {
    "id": "E06qdXmAWEYZ"
   },
   "source": [
    "# Practise Session - V"
   ]
  },
  {
   "cell_type": "code",
   "execution_count": null,
   "metadata": {
    "id": "VMPuU3NYWAuR"
   },
   "outputs": [],
   "source": [
    "# You have a dataset representing the failed Login Attempts on different servers for a month of 4 weeks: [20,22,21,25,24]. Calculate all the statistics on the dataset per week, by writing a function python function print_attacks.\n",
    "#Write the results in an excel file.\n"
   ]
  },
  {
   "cell_type": "markdown",
   "metadata": {
    "id": "jYkYGuKE97Vn"
   },
   "source": [
    "# Phase - II : ML studies"
   ]
  },
  {
   "cell_type": "markdown",
   "metadata": {
    "id": "akpEg67pOAyy"
   },
   "source": [
    "# Practise Session - I"
   ]
  },
  {
   "cell_type": "code",
   "execution_count": null,
   "metadata": {
    "colab": {
     "base_uri": "https://localhost:8080/"
    },
    "id": "UKg6xZv2oGFC",
    "outputId": "d7cdbcf9-a211-4d46-bc65-c1f2620c5345"
   },
   "outputs": [
    {
     "name": "stdout",
     "output_type": "stream",
     "text": [
      "[23.25442929]         0\n",
      "173  23.6\n",
      "274  32.4\n",
      "491  13.6\n",
      "72   22.8\n",
      "452  16.1\n",
      "..    ...\n",
      "412  17.9\n",
      "436   9.6\n",
      "411  17.2\n",
      "86   22.5\n",
      "75   21.4\n",
      "\n",
      "[102 rows x 1 columns]\n"
     ]
    }
   ],
   "source": [
    "import pandas as pd\n",
    "import numpy as np\n",
    "\n",
    "data_url = \"http://lib.stat.cmu.edu/datasets/boston\"\n",
    "raw_df = pd.read_csv(data_url, sep=\"\\s+\", skiprows=22, header=None)\n",
    "data = np.hstack([raw_df.values[::2, :], raw_df.values[1::2, :2]])\n",
    "target = raw_df.values[1::2, 2]\n",
    "\n",
    "#from sklearn.datasets import load_boston\n",
    "from sklearn import linear_model\n",
    "from sklearn.model_selection import train_test_split\n",
    "from sklearn.metrics import mean_squared_error, r2_score\n",
    "\n",
    "df_x=pd.DataFrame(data)\n",
    "df_y=pd.DataFrame(target)\n",
    "\n",
    "model=linear_model.LinearRegression()\n",
    "x_train,x_test,y_train,y_test=train_test_split(df_x,df_y,test_size=0.2,random_state=42)\n",
    "\n",
    "model.fit(x_train,y_train)\n",
    "results=model.predict(x_test)\n",
    "\n",
    "print(results[5], y_test)"
   ]
  },
  {
   "cell_type": "code",
   "execution_count": null,
   "metadata": {
    "colab": {
     "base_uri": "https://localhost:8080/"
    },
    "id": "glwfYPMXvz6Z",
    "outputId": "3145b40f-9ffc-49f6-a3ed-ca7dcbe86eeb"
   },
   "outputs": [
    {
     "name": "stdout",
     "output_type": "stream",
     "text": [
      "0.0        0\n",
      "668  0.0\n",
      "324  0.0\n",
      "624  0.0\n",
      "690  0.0\n",
      "473  0.0\n",
      "..   ...\n",
      "355  1.0\n",
      "534  0.0\n",
      "344  0.0\n",
      "296  1.0\n",
      "462  0.0\n",
      "\n",
      "[154 rows x 1 columns]\n"
     ]
    },
    {
     "name": "stderr",
     "output_type": "stream",
     "text": [
      "/usr/local/lib/python3.11/dist-packages/sklearn/utils/validation.py:1408: DataConversionWarning: A column-vector y was passed when a 1d array was expected. Please change the shape of y to (n_samples, ), for example using ravel().\n",
      "  y = column_or_1d(y, warn=True)\n",
      "/usr/local/lib/python3.11/dist-packages/sklearn/linear_model/_logistic.py:465: ConvergenceWarning: lbfgs failed to converge (status=1):\n",
      "STOP: TOTAL NO. of ITERATIONS REACHED LIMIT.\n",
      "\n",
      "Increase the number of iterations (max_iter) or scale the data as shown in:\n",
      "    https://scikit-learn.org/stable/modules/preprocessing.html\n",
      "Please also refer to the documentation for alternative solver options:\n",
      "    https://scikit-learn.org/stable/modules/linear_model.html#logistic-regression\n",
      "  n_iter_i = _check_optimize_result(\n"
     ]
    }
   ],
   "source": [
    "from pandas import read_csv\n",
    "from sklearn.model_selection import KFold\n",
    "from sklearn.model_selection import cross_val_score\n",
    "from sklearn.linear_model import LogisticRegression\n",
    "from sklearn.discriminant_analysis import LinearDiscriminantAnalysis\n",
    "# load dataset\n",
    "url = \"https://goo.gl/bDdBiA\"\n",
    "names = ['preg', 'plas', 'pres', 'skin', 'test', 'mass', 'pedi', 'age', 'class']\n",
    "dataframe = read_csv(url, names=names)\n",
    "array = dataframe.values\n",
    "X = array[:,0:8]\n",
    "y = array[:,8]\n",
    "\n",
    "df_x=pd.DataFrame(X)\n",
    "df_y=pd.DataFrame(y)\n",
    "\n",
    "model=linear_model.LogisticRegression()\n",
    "x_train,x_test,y_train,y_test=train_test_split(df_x,df_y,test_size=0.2,random_state=42)\n",
    "\n",
    "model.fit(x_train,y_train)\n",
    "results=model.predict(x_test)\n",
    "\n",
    "print(results[5], y_test)"
   ]
  },
  {
   "cell_type": "code",
   "execution_count": null,
   "metadata": {
    "colab": {
     "base_uri": "https://localhost:8080/"
    },
    "id": "IXqkdyiJ9742",
    "outputId": "ed658402-1c75-4236-8a29-58999286a0a4"
   },
   "outputs": [
    {
     "name": "stdout",
     "output_type": "stream",
     "text": [
      "LR: 0.770865 (0.050905)\n",
      "LDA: 0.766969 (0.047966)\n"
     ]
    }
   ],
   "source": [
    "from pandas import read_csv\n",
    "from sklearn.model_selection import KFold\n",
    "from sklearn.model_selection import cross_val_score\n",
    "from sklearn.linear_model import LogisticRegression\n",
    "from sklearn.discriminant_analysis import LinearDiscriminantAnalysis\n",
    "# load dataset\n",
    "url = \"https://goo.gl/bDdBiA\"\n",
    "names = ['preg', 'plas', 'pres', 'skin', 'test', 'mass', 'pedi', 'age', 'class']\n",
    "dataframe = read_csv(url, names=names)\n",
    "array = dataframe.values\n",
    "X = array[:,0:8]\n",
    "Y = array[:,8]\n",
    "# prepare models\n",
    "models = []\n",
    "models.append(('LR', LogisticRegression(solver='liblinear')))\n",
    "models.append(('LDA', LinearDiscriminantAnalysis()))\n",
    "# evaluate each model in turn\n",
    "results = []\n",
    "names = []\n",
    "scoring = 'accuracy'\n",
    "for name, model in models:\n",
    "    kfold = KFold(n_splits=10, random_state=7, shuffle=True)\n",
    "    cv_results = cross_val_score(model, X, Y, cv=kfold, scoring=scoring)\n",
    "    results.append(cv_results)\n",
    "    names.append(name)\n",
    "    msg = \"%s: %f (%f)\" % (name, cv_results.mean(), cv_results.std())\n",
    "    print(msg)"
   ]
  }
 ],
 "metadata": {
  "colab": {
   "collapsed_sections": [
    "qWRVEfly-Gcd",
    "jYkYGuKE97Vn"
   ],
   "provenance": []
  },
  "kernelspec": {
   "display_name": "Python 3 (ipykernel)",
   "language": "python",
   "name": "python3"
  },
  "language_info": {
   "codemirror_mode": {
    "name": "ipython",
    "version": 3
   },
   "file_extension": ".py",
   "mimetype": "text/x-python",
   "name": "python",
   "nbconvert_exporter": "python",
   "pygments_lexer": "ipython3",
   "version": "3.12.7"
  }
 },
 "nbformat": 4,
 "nbformat_minor": 4
}
